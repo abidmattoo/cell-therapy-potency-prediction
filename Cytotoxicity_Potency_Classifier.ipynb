{
 "cells": [
  {
   "cell_type": "markdown",
   "id": "39d1f798",
   "metadata": {},
   "source": [
    "# 🔬 Cytotoxicity-Based Potency Classification\n",
    "This notebook simulates a cytotoxicity assay (% cell killing vs reference standard) and builds a classification model to determine batch release pass/fail based on a regulatory range of **70–130%**."
   ]
  },
  {
   "cell_type": "code",
   "execution_count": null,
   "id": "b00d2b80",
   "metadata": {},
   "outputs": [],
   "source": [
    "import numpy as np\n",
    "import pandas as pd\n",
    "import matplotlib.pyplot as plt\n",
    "import seaborn as sns\n",
    "from sklearn.model_selection import train_test_split\n",
    "from sklearn.ensemble import RandomForestClassifier\n",
    "from sklearn.metrics import accuracy_score, confusion_matrix, classification_report, roc_curve, auc\n",
    "\n",
    "np.random.seed(303)\n",
    "n_samples = 300\n",
    "df = pd.DataFrame({\n",
    "    'donor_age': np.random.randint(20, 65, n_samples),\n",
    "    'passage_number': np.random.randint(1, 5, n_samples),\n",
    "    'MOI': np.random.uniform(2, 10, n_samples),\n",
    "    'culture_days': np.random.randint(7, 15, n_samples),\n",
    "    'transduction_efficiency': np.random.uniform(30, 90, n_samples),\n",
    "    'viability_percent': np.random.uniform(75, 99, n_samples),\n",
    "    'activation_marker_percent': np.random.uniform(20, 95, n_samples)\n",
    "})\n",
    "noise = np.random.normal(0, 10, n_samples)\n",
    "df['cytotoxicity_percent'] = (\n",
    "    0.6 * df['transduction_efficiency'] +\n",
    "    0.4 * df['viability_percent'] +\n",
    "    0.2 * df['activation_marker_percent'] -\n",
    "    5.0 * df['passage_number'] + noise\n",
    ").clip(20, 150)\n",
    "df['release_pass'] = df['cytotoxicity_percent'].between(70, 130).astype(int)\n",
    "df.head()"
   ]
  },
  {
   "cell_type": "code",
   "execution_count": null,
   "id": "3821f6d1",
   "metadata": {},
   "outputs": [],
   "source": [
    "X = df.drop(columns=['cytotoxicity_percent', 'release_pass'])\n",
    "y = df['release_pass']\n",
    "X_train, X_test, y_train, y_test = train_test_split(X, y, test_size=0.2, random_state=42)\n",
    "clf = RandomForestClassifier(n_estimators=100, random_state=42)\n",
    "clf.fit(X_train, y_train)\n",
    "y_pred = clf.predict(X_test)\n",
    "accuracy = accuracy_score(y_test, y_pred)\n",
    "conf_matrix = confusion_matrix(y_test, y_pred)\n",
    "accuracy"
   ]
  },
  {
   "cell_type": "code",
   "execution_count": null,
   "id": "475cc173",
   "metadata": {},
   "outputs": [],
   "source": [
    "report = classification_report(y_test, y_pred)\n",
    "print(report)"
   ]
  },
  {
   "cell_type": "code",
   "execution_count": null,
   "id": "633b29df",
   "metadata": {},
   "outputs": [],
   "source": [
    "fig, axs = plt.subplots(1, 2, figsize=(14, 5))\n",
    "sns.heatmap(conf_matrix, annot=True, fmt='d', cmap='Blues', ax=axs[0])\n",
    "axs[0].set_title('Confusion Matrix')\n",
    "axs[0].set_xlabel('Predicted Label')\n",
    "axs[0].set_ylabel('True Label')\n",
    "axs[0].set_xticklabels(['Fail (0)', 'Pass (1)'])\n",
    "axs[0].set_yticklabels(['Fail (0)', 'Pass (1)'])\n",
    "\n",
    "y_probs = clf.predict_proba(X_test)[:, 1]\n",
    "fpr, tpr, _ = roc_curve(y_test, y_probs)\n",
    "roc_auc = auc(fpr, tpr)\n",
    "axs[1].plot(fpr, tpr, label=f'AUC = {roc_auc:.2f}', color='darkorange')\n",
    "axs[1].plot([0, 1], [0, 1], linestyle='--', color='gray')\n",
    "axs[1].set_title('ROC Curve')\n",
    "axs[1].set_xlabel('False Positive Rate')\n",
    "axs[1].set_ylabel('True Positive Rate')\n",
    "axs[1].legend(loc='lower right')\n",
    "plt.tight_layout()\n",
    "plt.show()"
   ]
  },
  {
   "cell_type": "code",
   "execution_count": null,
   "id": "657f86ea",
   "metadata": {},
   "outputs": [],
   "source": [
    "importances = clf.feature_importances_\n",
    "features = X.columns\n",
    "indices = np.argsort(importances)[::-1]\n",
    "plt.figure(figsize=(10, 6))\n",
    "plt.barh(features[indices], importances[indices])\n",
    "plt.xlabel('Importance Score')\n",
    "plt.title('Feature Importance - Random Forest')\n",
    "plt.gca().invert_yaxis()\n",
    "plt.tight_layout()\n",
    "plt.show()"
   ]
  }
 ],
 "metadata": {},
 "nbformat": 4,
 "nbformat_minor": 5
}
