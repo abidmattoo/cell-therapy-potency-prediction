{
 "cells": [
  {
   "cell_type": "markdown",
   "id": "86a5f698",
   "metadata": {},
   "source": [
    "# 🔬 CMC Potency Modeling with SHAP"
   ]
  },
  {
   "cell_type": "code",
   "execution_count": 2,
   "id": "39e47c43",
   "metadata": {},
   "outputs": [],
   "source": [
    "import numpy as np\n",
    "import pandas as pd\n",
    "import matplotlib.pyplot as plt\n",
    "from sklearn.model_selection import train_test_split\n",
    "from sklearn.ensemble import RandomForestRegressor\n",
    "from sklearn.metrics import mean_absolute_error, r2_score"
   ]
  },
  {
   "cell_type": "markdown",
   "id": "43d66c71",
   "metadata": {},
   "source": [
    "## 🧪 Simulate Potency Dataset"
   ]
  },
  {
   "cell_type": "code",
   "execution_count": 4,
   "id": "2ad3dd7c",
   "metadata": {},
   "outputs": [
    {
     "data": {
      "text/html": [
       "<div>\n",
       "<style scoped>\n",
       "    .dataframe tbody tr th:only-of-type {\n",
       "        vertical-align: middle;\n",
       "    }\n",
       "\n",
       "    .dataframe tbody tr th {\n",
       "        vertical-align: top;\n",
       "    }\n",
       "\n",
       "    .dataframe thead th {\n",
       "        text-align: right;\n",
       "    }\n",
       "</style>\n",
       "<table border=\"1\" class=\"dataframe\">\n",
       "  <thead>\n",
       "    <tr style=\"text-align: right;\">\n",
       "      <th></th>\n",
       "      <th>donor_age</th>\n",
       "      <th>passage_number</th>\n",
       "      <th>MOI</th>\n",
       "      <th>culture_days</th>\n",
       "      <th>transduction_efficiency</th>\n",
       "      <th>viability_percent</th>\n",
       "      <th>activation_marker_percent</th>\n",
       "      <th>IL2_expression</th>\n",
       "      <th>IFNg_expression</th>\n",
       "      <th>potency_percent</th>\n",
       "    </tr>\n",
       "  </thead>\n",
       "  <tbody>\n",
       "    <tr>\n",
       "      <th>0</th>\n",
       "      <td>51</td>\n",
       "      <td>1</td>\n",
       "      <td>3.685338</td>\n",
       "      <td>8</td>\n",
       "      <td>81.205262</td>\n",
       "      <td>83.040181</td>\n",
       "      <td>33.783699</td>\n",
       "      <td>776.918892</td>\n",
       "      <td>1319.612993</td>\n",
       "      <td>39.853700</td>\n",
       "    </tr>\n",
       "    <tr>\n",
       "      <th>1</th>\n",
       "      <td>31</td>\n",
       "      <td>3</td>\n",
       "      <td>4.668357</td>\n",
       "      <td>14</td>\n",
       "      <td>33.228166</td>\n",
       "      <td>94.026373</td>\n",
       "      <td>75.410811</td>\n",
       "      <td>1153.495862</td>\n",
       "      <td>1100.182279</td>\n",
       "      <td>31.134611</td>\n",
       "    </tr>\n",
       "    <tr>\n",
       "      <th>2</th>\n",
       "      <td>37</td>\n",
       "      <td>4</td>\n",
       "      <td>2.251541</td>\n",
       "      <td>12</td>\n",
       "      <td>35.709975</td>\n",
       "      <td>98.277591</td>\n",
       "      <td>79.478721</td>\n",
       "      <td>373.865125</td>\n",
       "      <td>378.406647</td>\n",
       "      <td>20.000000</td>\n",
       "    </tr>\n",
       "    <tr>\n",
       "      <th>3</th>\n",
       "      <td>26</td>\n",
       "      <td>2</td>\n",
       "      <td>6.419988</td>\n",
       "      <td>13</td>\n",
       "      <td>38.733939</td>\n",
       "      <td>89.611329</td>\n",
       "      <td>67.929480</td>\n",
       "      <td>1013.141749</td>\n",
       "      <td>486.168602</td>\n",
       "      <td>32.805991</td>\n",
       "    </tr>\n",
       "    <tr>\n",
       "      <th>4</th>\n",
       "      <td>43</td>\n",
       "      <td>4</td>\n",
       "      <td>3.310331</td>\n",
       "      <td>8</td>\n",
       "      <td>80.758140</td>\n",
       "      <td>94.807317</td>\n",
       "      <td>64.192815</td>\n",
       "      <td>637.271232</td>\n",
       "      <td>455.665327</td>\n",
       "      <td>20.000000</td>\n",
       "    </tr>\n",
       "  </tbody>\n",
       "</table>\n",
       "</div>"
      ],
      "text/plain": [
       "   donor_age  passage_number       MOI  culture_days  transduction_efficiency  \\\n",
       "0         51               1  3.685338             8                81.205262   \n",
       "1         31               3  4.668357            14                33.228166   \n",
       "2         37               4  2.251541            12                35.709975   \n",
       "3         26               2  6.419988            13                38.733939   \n",
       "4         43               4  3.310331             8                80.758140   \n",
       "\n",
       "   viability_percent  activation_marker_percent  IL2_expression  \\\n",
       "0          83.040181                  33.783699      776.918892   \n",
       "1          94.026373                  75.410811     1153.495862   \n",
       "2          98.277591                  79.478721      373.865125   \n",
       "3          89.611329                  67.929480     1013.141749   \n",
       "4          94.807317                  64.192815      637.271232   \n",
       "\n",
       "   IFNg_expression  potency_percent  \n",
       "0      1319.612993        39.853700  \n",
       "1      1100.182279        31.134611  \n",
       "2       378.406647        20.000000  \n",
       "3       486.168602        32.805991  \n",
       "4       455.665327        20.000000  "
      ]
     },
     "execution_count": 4,
     "metadata": {},
     "output_type": "execute_result"
    }
   ],
   "source": [
    "np.random.seed(101)\n",
    "n_samples = 300\n",
    "df = pd.DataFrame({\n",
    "    'donor_age': np.random.randint(20, 65, n_samples),\n",
    "    'passage_number': np.random.randint(1, 5, n_samples),\n",
    "    'MOI': np.random.uniform(2, 10, n_samples),\n",
    "    'culture_days': np.random.randint(7, 15, n_samples),\n",
    "    'transduction_efficiency': np.random.uniform(30, 90, n_samples),\n",
    "    'viability_percent': np.random.uniform(75, 99, n_samples),\n",
    "    'activation_marker_percent': np.random.uniform(20, 95, n_samples),\n",
    "    'IL2_expression': np.random.uniform(50, 1200, n_samples),\n",
    "    'IFNg_expression': np.random.uniform(50, 1400, n_samples)\n",
    "})\n",
    "noise = np.random.normal(0, 5, n_samples)\n",
    "df['potency_percent'] = (\n",
    "    0.015 * df['IL2_expression'] +\n",
    "    0.01 * df['IFNg_expression'] +\n",
    "    0.15 * df['activation_marker_percent'] +\n",
    "    0.08 * df['transduction_efficiency'] +\n",
    "    0.08 * df['viability_percent'] -\n",
    "    6.0 * df['passage_number'] +\n",
    "    noise\n",
    ").clip(20, 100)\n",
    "df.head()"
   ]
  },
  {
   "cell_type": "markdown",
   "id": "c54e5be5",
   "metadata": {},
   "source": [
    "## 🤖 Train Random Forest Model"
   ]
  },
  {
   "cell_type": "code",
   "execution_count": 6,
   "id": "9a3a9fd8",
   "metadata": {},
   "outputs": [
    {
     "data": {
      "text/plain": [
       "(2.0789889115877944, 0.7116031681367817)"
      ]
     },
     "execution_count": 6,
     "metadata": {},
     "output_type": "execute_result"
    }
   ],
   "source": [
    "X = df.drop(columns=['potency_percent'])\n",
    "y = df['potency_percent']\n",
    "X_train, X_test, y_train, y_test = train_test_split(X, y, test_size=0.2, random_state=42)\n",
    "model = RandomForestRegressor(n_estimators=100, random_state=42)\n",
    "model.fit(X_train, y_train)\n",
    "y_pred = model.predict(X_test)\n",
    "mae = mean_absolute_error(y_test, y_pred)\n",
    "r2 = r2_score(y_test, y_pred)\n",
    "mae, r2"
   ]
  },
  {
   "cell_type": "markdown",
   "id": "b17d91a9",
   "metadata": {},
   "source": [
    "## 📈 Actual vs Predicted"
   ]
  },
  {
   "cell_type": "code",
   "execution_count": 8,
   "id": "84178a9d",
   "metadata": {},
   "outputs": [
    {
     "data": {
      "image/png": "[encoded data removed]",
      "text/plain": [
       "<Figure size 800x600 with 1 Axes>"
      ]
     },
     "metadata": {},
     "output_type": "display_data"
    }
   ],
   "source": [
    "plt.figure(figsize=(8, 6))\n",
    "plt.scatter(y_test, y_pred, alpha=0.7)\n",
    "plt.plot([y_test.min(), y_test.max()], [y_test.min(), y_test.max()], '--', color='gray')\n",
    "plt.xlabel('Actual Potency (%)')\n",
    "plt.ylabel('Predicted Potency (%)')\n",
    "plt.title('Random Forest - Actual vs Predicted')\n",
    "plt.grid(True)\n",
    "plt.tight_layout()\n",
    "plt.show()"
   ]
  },
  {
   "cell_type": "markdown",
   "id": "335b4a01",
   "metadata": {},
   "source": [
    "## 🔍 SHAP Summary"
   ]
  },
  {
   "cell_type": "code",
   "execution_count": null,
   "id": "96aa89c6",
   "metadata": {},
   "outputs": [],
   "source": [
    "import shap\n",
    "explainer = shap.TreeExplainer(model)\n",
    "shap_values = explainer.shap_values(X_test)\n",
    "shap.summary_plot(shap_values, X_test)"
   ]
  }
 ],
 "metadata": {
  "kernelspec": {
   "display_name": "Python [conda env:base] *",
   "language": "python",
   "name": "conda-base-py"
  },
  "language_info": {
   "codemirror_mode": {
    "name": "ipython",
    "version": 3
   },
   "file_extension": ".py",
   "mimetype": "text/x-python",
   "name": "python",
   "nbconvert_exporter": "python",
   "pygments_lexer": "ipython3",
   "version": "3.12.7"
  }
 },
 "nbformat": 4,
 "nbformat_minor": 5
}
